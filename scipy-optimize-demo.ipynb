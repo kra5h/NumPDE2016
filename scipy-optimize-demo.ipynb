{
 "cells": [
  {
   "cell_type": "code",
   "execution_count": 1,
   "metadata": {},
   "outputs": [],
   "source": [
    "from scipy.optimize import rosen, rosen_der, rosen_hess, rosen_hess_prod, minimize\n",
    "from matplotlib import pyplot as plt\n",
    "import numpy as np\n",
    "import time\n",
    "import pandas as pd\n",
    "%matplotlib inline"
   ]
  },
  {
   "cell_type": "markdown",
   "metadata": {},
   "source": [
    "### nice tutorial\n",
    "http://www.scipy-lectures.org/advanced/mathematical_optimization/\n",
    "\n",
    "Rosenbrock function:\n",
    "https://en.wikipedia.org/wiki/Rosenbrock_function"
   ]
  },
  {
   "cell_type": "code",
   "execution_count": 2,
   "metadata": {},
   "outputs": [
    {
     "data": {
      "text/plain": [
       "<matplotlib.colorbar.Colorbar at 0x7faee7958e80>"
      ]
     },
     "execution_count": 2,
     "metadata": {},
     "output_type": "execute_result"
    },
    {
     "data": {
      "image/png": "[encoded data removed]",
      "text/plain": [
       "<Figure size 432x288 with 2 Axes>"
      ]
     },
     "metadata": {
      "needs_background": "light"
     },
     "output_type": "display_data"
    }
   ],
   "source": [
    "x = np.linspace(-0.2, 2, 101)\n",
    "xx, yy = np.array(np.meshgrid(x, x))\n",
    "plt.contourf(x, x, rosen([xx, yy]))\n",
    "plt.plot(1,1,'w*')\n",
    "plt.colorbar()"
   ]
  },
  {
   "cell_type": "markdown",
   "metadata": {},
   "source": [
    "### Solving equations:\n",
    "\n",
    "Newton's method:\n",
    "https://en.wikipedia.org/wiki/Newton%27s_method\n",
    "\n",
    "Secant method:\n",
    "https://en.wikipedia.org/wiki/Secant_method\n",
    "\n",
    "Broyden's method:\n",
    "https://en.wikipedia.org/wiki/Broyden%27s_method\n",
    "\n",
    "### Optimization\n",
    "\n",
    "Nelder-Mead algorithm:\n",
    "https://en.wikipedia.org/wiki/Nelder%E2%80%93Mead_method\n",
    "\n",
    "BFGS algorithm:\n",
    "https://en.wikipedia.org/wiki/Broyden%E2%80%93Fletcher%E2%80%93Goldfarb%E2%80%93Shanno_algorithm"
   ]
  },
  {
   "cell_type": "code",
   "execution_count": 3,
   "metadata": {},
   "outputs": [
    {
     "data": {
      "text/plain": [
       " final_simplex: (array([[0.99998529, 0.99997065],\n",
       "       [1.00002239, 1.00004372],\n",
       "       [1.00002909, 1.00005993]]), array([2.17177653e-10, 6.13513659e-10, 1.15113945e-09]))\n",
       "           fun: 2.1717765323851955e-10\n",
       "       message: 'Optimization terminated successfully.'\n",
       "          nfev: 158\n",
       "           nit: 84\n",
       "        status: 0\n",
       "       success: True\n",
       "             x: array([0.99998529, 0.99997065])"
      ]
     },
     "execution_count": 3,
     "metadata": {},
     "output_type": "execute_result"
    }
   ],
   "source": [
    "minimize(rosen, [2,3], method = 'Nelder-Mead')"
   ]
  },
  {
   "cell_type": "code",
   "execution_count": 4,
   "metadata": {},
   "outputs": [
    {
     "data": {
      "text/plain": [
       "      fun: 1.3831659900787323e-15\n",
       " hess_inv: array([[0.47650293, 0.95190424],\n",
       "       [0.95190424, 1.90655387]])\n",
       "      jac: array([ 5.64772996e-07, -3.16053139e-07])\n",
       "  message: 'Optimization terminated successfully.'\n",
       "     nfev: 27\n",
       "      nit: 22\n",
       "     njev: 27\n",
       "   status: 0\n",
       "  success: True\n",
       "        x: array([0.99999997, 0.99999993])"
      ]
     },
     "execution_count": 4,
     "metadata": {},
     "output_type": "execute_result"
    }
   ],
   "source": [
    "minimize(rosen, [2,3], method = 'BFGS', jac = rosen_der)"
   ]
  },
  {
   "cell_type": "code",
   "execution_count": 5,
   "metadata": {},
   "outputs": [
    {
     "data": {
      "text/plain": [
       "      fun: 2.0358716035099102e-11\n",
       " hess_inv: array([[0.47656345, 0.95202137],\n",
       "       [0.95202137, 1.90678021]])\n",
       "      jac: array([ 5.61744012e-07, -3.14269366e-07])\n",
       "  message: 'Optimization terminated successfully.'\n",
       "     nfev: 108\n",
       "      nit: 22\n",
       "     njev: 27\n",
       "   status: 0\n",
       "  success: True\n",
       "        x: array([0.99999549, 0.99999097])"
      ]
     },
     "execution_count": 5,
     "metadata": {},
     "output_type": "execute_result"
    }
   ],
   "source": [
    "minimize(rosen, [2,3], method = 'BFGS')"
   ]
  },
  {
   "cell_type": "code",
   "execution_count": 6,
   "metadata": {},
   "outputs": [
    {
     "data": {
      "text/plain": [
       "     fun: 7.723439484171331e-15\n",
       "     jac: array([ 2.90996472e-05, -1.46085841e-05])\n",
       " message: 'Optimization terminated successfully.'\n",
       "    nfev: 52\n",
       "    nhev: 35\n",
       "     nit: 35\n",
       "    njev: 86\n",
       "  status: 0\n",
       " success: True\n",
       "       x: array([0.99999991, 0.99999982])"
      ]
     },
     "execution_count": 6,
     "metadata": {},
     "output_type": "execute_result"
    }
   ],
   "source": [
    "minimize(rosen, [0,3], method = 'Newton-CG', jac = rosen_der, hess = rosen_hess)"
   ]
  },
  {
   "cell_type": "code",
   "execution_count": 7,
   "metadata": {},
   "outputs": [
    {
     "name": "stdout",
     "output_type": "stream",
     "text": [
      "Running Nelder-Mead\n",
      "Running Powell\n",
      "Running BFGS no jac\n",
      "Running BFGS\n",
      "Running L-BFGS-B no jac\n",
      "Running L-BFGS-B\n",
      "Running Newton-CG no hess\n",
      "Running Newton-CG\n"
     ]
    }
   ],
   "source": [
    "points = np.random.random((100, 2))*10-5\n",
    "methods = [\n",
    "    {'name': 'Nelder-Mead', 'method': 'Nelder-Mead', 'jac' : None, 'hess' : None},\n",
    "    {'name': 'Powell', 'method': 'Powell', 'jac' : None, 'hess' : None},\n",
    "    {'name': 'BFGS no jac', 'method': 'BFGS', 'jac' : None, 'hess' : None},\n",
    "    {'name': 'BFGS', 'method': 'BFGS', 'jac' : rosen_der, 'hess' : None},\n",
    "    {'name': 'L-BFGS-B no jac', 'method': 'L-BFGS-B', 'jac' : None, 'hess' : None},\n",
    "    {'name': 'L-BFGS-B', 'method': 'L-BFGS-B', 'jac' : rosen_der, 'hess' : None},\n",
    "    {'name': 'Newton-CG no hess', 'method': 'Newton-CG', 'jac' : rosen_der, 'hess' : None},\n",
    "    {'name': 'Newton-CG', 'method': 'Newton-CG', 'jac' : rosen_der, 'hess' : rosen_hess}\n",
    "]\n",
    "\n",
    "data = []\n",
    "solution_x = np.array([1,1])\n",
    "solution_fun = 0\n",
    "\n",
    "for method_json in methods:\n",
    "    print('Running', method_json['name'])\n",
    "    \n",
    "    for point in points:\n",
    "        t = time.time()\n",
    "        try:\n",
    "            res = minimize(rosen, point, method = method_json['method'],\n",
    "                           jac = method_json['jac'], hess = method_json['hess'])\n",
    "        except:\n",
    "            pass\n",
    "        \n",
    "        try:\n",
    "            njev = res.njev\n",
    "        except:\n",
    "            njev = 0\n",
    "        try:\n",
    "            nhev = res.nhev\n",
    "        except:\n",
    "            nhev = 0\n",
    "        data.append([method_json['name'], np.abs(res.fun - solution_fun), \n",
    "                    np.linalg.norm(solution_x - res.x),\n",
    "                    res.nfev, njev, nhev, res.nit, time.time() - t])"
   ]
  },
  {
   "cell_type": "code",
   "execution_count": 8,
   "metadata": {},
   "outputs": [],
   "source": [
    "df = pd.DataFrame(data, columns = ['method', 'delta_fun', 'delta_x', 'nfev', 'njev', 'nhev', 'nit', 't'])"
   ]
  },
  {
   "cell_type": "code",
   "execution_count": 9,
   "metadata": {},
   "outputs": [
    {
     "data": {
      "text/html": [
       "<div>\n",
       "<style scoped>\n",
       "    .dataframe tbody tr th:only-of-type {\n",
       "        vertical-align: middle;\n",
       "    }\n",
       "\n",
       "    .dataframe tbody tr th {\n",
       "        vertical-align: top;\n",
       "    }\n",
       "\n",
       "    .dataframe thead th {\n",
       "        text-align: right;\n",
       "    }\n",
       "</style>\n",
       "<table border=\"1\" class=\"dataframe\">\n",
       "  <thead>\n",
       "    <tr style=\"text-align: right;\">\n",
       "      <th></th>\n",
       "      <th>delta_fun</th>\n",
       "      <th>delta_x</th>\n",
       "      <th>nfev</th>\n",
       "      <th>njev</th>\n",
       "      <th>nhev</th>\n",
       "      <th>nit</th>\n",
       "      <th>t</th>\n",
       "    </tr>\n",
       "    <tr>\n",
       "      <th>method</th>\n",
       "      <th></th>\n",
       "      <th></th>\n",
       "      <th></th>\n",
       "      <th></th>\n",
       "      <th></th>\n",
       "      <th></th>\n",
       "      <th></th>\n",
       "    </tr>\n",
       "  </thead>\n",
       "  <tbody>\n",
       "    <tr>\n",
       "      <th>BFGS</th>\n",
       "      <td>1.636331e-15</td>\n",
       "      <td>3.743210e-08</td>\n",
       "      <td>56.5</td>\n",
       "      <td>56.5</td>\n",
       "      <td>0.0</td>\n",
       "      <td>44.0</td>\n",
       "      <td>0.004716</td>\n",
       "    </tr>\n",
       "    <tr>\n",
       "      <th>BFGS no jac</th>\n",
       "      <td>1.988491e-11</td>\n",
       "      <td>9.968281e-06</td>\n",
       "      <td>278.0</td>\n",
       "      <td>69.5</td>\n",
       "      <td>0.0</td>\n",
       "      <td>44.0</td>\n",
       "      <td>0.007581</td>\n",
       "    </tr>\n",
       "    <tr>\n",
       "      <th>L-BFGS-B</th>\n",
       "      <td>6.490643e-14</td>\n",
       "      <td>2.979625e-07</td>\n",
       "      <td>38.0</td>\n",
       "      <td>0.0</td>\n",
       "      <td>0.0</td>\n",
       "      <td>31.0</td>\n",
       "      <td>0.002506</td>\n",
       "    </tr>\n",
       "    <tr>\n",
       "      <th>L-BFGS-B no jac</th>\n",
       "      <td>9.092062e-12</td>\n",
       "      <td>6.732049e-06</td>\n",
       "      <td>115.5</td>\n",
       "      <td>0.0</td>\n",
       "      <td>0.0</td>\n",
       "      <td>31.0</td>\n",
       "      <td>0.002500</td>\n",
       "    </tr>\n",
       "    <tr>\n",
       "      <th>Nelder-Mead</th>\n",
       "      <td>4.625267e-10</td>\n",
       "      <td>2.676636e-05</td>\n",
       "      <td>151.0</td>\n",
       "      <td>0.0</td>\n",
       "      <td>0.0</td>\n",
       "      <td>81.5</td>\n",
       "      <td>0.004479</td>\n",
       "    </tr>\n",
       "    <tr>\n",
       "      <th>Newton-CG</th>\n",
       "      <td>1.058534e-12</td>\n",
       "      <td>2.281248e-06</td>\n",
       "      <td>53.5</td>\n",
       "      <td>90.0</td>\n",
       "      <td>37.5</td>\n",
       "      <td>37.5</td>\n",
       "      <td>0.007043</td>\n",
       "    </tr>\n",
       "    <tr>\n",
       "      <th>Newton-CG no hess</th>\n",
       "      <td>2.046742e-12</td>\n",
       "      <td>3.189506e-06</td>\n",
       "      <td>55.5</td>\n",
       "      <td>207.0</td>\n",
       "      <td>0.0</td>\n",
       "      <td>38.0</td>\n",
       "      <td>0.008989</td>\n",
       "    </tr>\n",
       "    <tr>\n",
       "      <th>Powell</th>\n",
       "      <td>7.343802e-29</td>\n",
       "      <td>1.361447e-14</td>\n",
       "      <td>510.0</td>\n",
       "      <td>0.0</td>\n",
       "      <td>0.0</td>\n",
       "      <td>18.0</td>\n",
       "      <td>0.012985</td>\n",
       "    </tr>\n",
       "  </tbody>\n",
       "</table>\n",
       "</div>"
      ],
      "text/plain": [
       "                      delta_fun       delta_x   nfev   njev  nhev   nit  \\\n",
       "method                                                                    \n",
       "BFGS               1.636331e-15  3.743210e-08   56.5   56.5   0.0  44.0   \n",
       "BFGS no jac        1.988491e-11  9.968281e-06  278.0   69.5   0.0  44.0   \n",
       "L-BFGS-B           6.490643e-14  2.979625e-07   38.0    0.0   0.0  31.0   \n",
       "L-BFGS-B no jac    9.092062e-12  6.732049e-06  115.5    0.0   0.0  31.0   \n",
       "Nelder-Mead        4.625267e-10  2.676636e-05  151.0    0.0   0.0  81.5   \n",
       "Newton-CG          1.058534e-12  2.281248e-06   53.5   90.0  37.5  37.5   \n",
       "Newton-CG no hess  2.046742e-12  3.189506e-06   55.5  207.0   0.0  38.0   \n",
       "Powell             7.343802e-29  1.361447e-14  510.0    0.0   0.0  18.0   \n",
       "\n",
       "                          t  \n",
       "method                       \n",
       "BFGS               0.004716  \n",
       "BFGS no jac        0.007581  \n",
       "L-BFGS-B           0.002506  \n",
       "L-BFGS-B no jac    0.002500  \n",
       "Nelder-Mead        0.004479  \n",
       "Newton-CG          0.007043  \n",
       "Newton-CG no hess  0.008989  \n",
       "Powell             0.012985  "
      ]
     },
     "execution_count": 9,
     "metadata": {},
     "output_type": "execute_result"
    }
   ],
   "source": [
    "df.groupby('method').median()"
   ]
  },
  {
   "cell_type": "code",
   "execution_count": 10,
   "metadata": {},
   "outputs": [
    {
     "name": "stdout",
     "output_type": "stream",
     "text": [
      "Running Nelder-Mead\n",
      "Running Powell\n",
      "Running BFGS no jac\n",
      "Running BFGS\n",
      "Running L-BFGS-B no jac\n",
      "Running L-BFGS-B\n",
      "Running Newton-CG no hess\n",
      "Running Newton-CG\n"
     ]
    }
   ],
   "source": [
    "points = np.random.random((100, 10))*10-5\n",
    "methods = [\n",
    "    {'name': 'Nelder-Mead', 'method': 'Nelder-Mead', 'jac' : None, 'hess' : None},\n",
    "    {'name': 'Powell', 'method': 'Powell', 'jac' : None, 'hess' : None},\n",
    "    {'name': 'BFGS no jac', 'method': 'BFGS', 'jac' : None, 'hess' : None},\n",
    "    {'name': 'BFGS', 'method': 'BFGS', 'jac' : rosen_der, 'hess' : None},\n",
    "    {'name': 'L-BFGS-B no jac', 'method': 'L-BFGS-B', 'jac' : None, 'hess' : None},\n",
    "    {'name': 'L-BFGS-B', 'method': 'L-BFGS-B', 'jac' : rosen_der, 'hess' : None},\n",
    "    {'name': 'Newton-CG no hess', 'method': 'Newton-CG', 'jac' : rosen_der, 'hess' : None},\n",
    "    {'name': 'Newton-CG', 'method': 'Newton-CG', 'jac' : rosen_der, 'hess' : rosen_hess}\n",
    "]\n",
    "\n",
    "data = []\n",
    "solution_x = np.array([1]*10)\n",
    "solution_fun = 0\n",
    "\n",
    "for method_json in methods:\n",
    "    print('Running', method_json['name'])\n",
    "    \n",
    "    for point in points:\n",
    "        t = time.time()\n",
    "        res = minimize(rosen, point, method = method_json['method'],\n",
    "                       jac = method_json['jac'], hess = method_json['hess'])\n",
    "        try:\n",
    "            njev = res.njev\n",
    "        except:\n",
    "            njev = 0\n",
    "        try:\n",
    "            nhev = res.nhev\n",
    "        except:\n",
    "            nhev = 0\n",
    "        data.append([method_json['name'], np.abs(res.fun - solution_fun), \n",
    "                    np.linalg.norm(solution_x - res.x),\n",
    "                    res.nfev, njev, nhev, res.nit, time.time() - t])"
   ]
  },
  {
   "cell_type": "code",
   "execution_count": 13,
   "metadata": {},
   "outputs": [],
   "source": [
    "df = pd.DataFrame(data, columns = ['method', 'delta_fun', 'delta_x', 'nfev', 'njev', 'nhev', 'nit', 't'])"
   ]
  },
  {
   "cell_type": "code",
   "execution_count": 14,
   "metadata": {},
   "outputs": [
    {
     "data": {
      "text/html": [
       "<div>\n",
       "<style scoped>\n",
       "    .dataframe tbody tr th:only-of-type {\n",
       "        vertical-align: middle;\n",
       "    }\n",
       "\n",
       "    .dataframe tbody tr th {\n",
       "        vertical-align: top;\n",
       "    }\n",
       "\n",
       "    .dataframe thead th {\n",
       "        text-align: right;\n",
       "    }\n",
       "</style>\n",
       "<table border=\"1\" class=\"dataframe\">\n",
       "  <thead>\n",
       "    <tr style=\"text-align: right;\">\n",
       "      <th></th>\n",
       "      <th>delta_fun</th>\n",
       "      <th>delta_x</th>\n",
       "      <th>nfev</th>\n",
       "      <th>njev</th>\n",
       "      <th>nhev</th>\n",
       "      <th>nit</th>\n",
       "      <th>t</th>\n",
       "    </tr>\n",
       "    <tr>\n",
       "      <th>method</th>\n",
       "      <th></th>\n",
       "      <th></th>\n",
       "      <th></th>\n",
       "      <th></th>\n",
       "      <th></th>\n",
       "      <th></th>\n",
       "      <th></th>\n",
       "    </tr>\n",
       "  </thead>\n",
       "  <tbody>\n",
       "    <tr>\n",
       "      <th>BFGS</th>\n",
       "      <td>4.796992e-14</td>\n",
       "      <td>7.575619e-08</td>\n",
       "      <td>129.0</td>\n",
       "      <td>129.0</td>\n",
       "      <td>0.0</td>\n",
       "      <td>115.5</td>\n",
       "      <td>0.012328</td>\n",
       "    </tr>\n",
       "    <tr>\n",
       "      <th>BFGS no jac</th>\n",
       "      <td>6.040052e-11</td>\n",
       "      <td>1.545059e-05</td>\n",
       "      <td>1740.0</td>\n",
       "      <td>145.0</td>\n",
       "      <td>0.0</td>\n",
       "      <td>114.5</td>\n",
       "      <td>0.036714</td>\n",
       "    </tr>\n",
       "    <tr>\n",
       "      <th>L-BFGS-B</th>\n",
       "      <td>1.773074e-10</td>\n",
       "      <td>4.643657e-06</td>\n",
       "      <td>82.5</td>\n",
       "      <td>0.0</td>\n",
       "      <td>0.0</td>\n",
       "      <td>70.0</td>\n",
       "      <td>0.005118</td>\n",
       "    </tr>\n",
       "    <tr>\n",
       "      <th>L-BFGS-B no jac</th>\n",
       "      <td>1.908353e-10</td>\n",
       "      <td>1.058695e-05</td>\n",
       "      <td>918.5</td>\n",
       "      <td>0.0</td>\n",
       "      <td>0.0</td>\n",
       "      <td>70.0</td>\n",
       "      <td>0.016342</td>\n",
       "    </tr>\n",
       "    <tr>\n",
       "      <th>Nelder-Mead</th>\n",
       "      <td>2.121727e+01</td>\n",
       "      <td>2.994967e+00</td>\n",
       "      <td>2000.0</td>\n",
       "      <td>0.0</td>\n",
       "      <td>0.0</td>\n",
       "      <td>1436.5</td>\n",
       "      <td>0.066046</td>\n",
       "    </tr>\n",
       "    <tr>\n",
       "      <th>Newton-CG</th>\n",
       "      <td>6.406465e-09</td>\n",
       "      <td>1.537200e-04</td>\n",
       "      <td>65.5</td>\n",
       "      <td>119.5</td>\n",
       "      <td>55.5</td>\n",
       "      <td>55.5</td>\n",
       "      <td>0.012429</td>\n",
       "    </tr>\n",
       "    <tr>\n",
       "      <th>Newton-CG no hess</th>\n",
       "      <td>1.857900e-08</td>\n",
       "      <td>2.548475e-04</td>\n",
       "      <td>63.0</td>\n",
       "      <td>642.0</td>\n",
       "      <td>0.0</td>\n",
       "      <td>54.0</td>\n",
       "      <td>0.023103</td>\n",
       "    </tr>\n",
       "    <tr>\n",
       "      <th>Powell</th>\n",
       "      <td>1.392990e-20</td>\n",
       "      <td>2.501359e-11</td>\n",
       "      <td>6168.5</td>\n",
       "      <td>0.0</td>\n",
       "      <td>0.0</td>\n",
       "      <td>52.0</td>\n",
       "      <td>0.154071</td>\n",
       "    </tr>\n",
       "  </tbody>\n",
       "</table>\n",
       "</div>"
      ],
      "text/plain": [
       "                      delta_fun       delta_x    nfev   njev  nhev     nit  \\\n",
       "method                                                                       \n",
       "BFGS               4.796992e-14  7.575619e-08   129.0  129.0   0.0   115.5   \n",
       "BFGS no jac        6.040052e-11  1.545059e-05  1740.0  145.0   0.0   114.5   \n",
       "L-BFGS-B           1.773074e-10  4.643657e-06    82.5    0.0   0.0    70.0   \n",
       "L-BFGS-B no jac    1.908353e-10  1.058695e-05   918.5    0.0   0.0    70.0   \n",
       "Nelder-Mead        2.121727e+01  2.994967e+00  2000.0    0.0   0.0  1436.5   \n",
       "Newton-CG          6.406465e-09  1.537200e-04    65.5  119.5  55.5    55.5   \n",
       "Newton-CG no hess  1.857900e-08  2.548475e-04    63.0  642.0   0.0    54.0   \n",
       "Powell             1.392990e-20  2.501359e-11  6168.5    0.0   0.0    52.0   \n",
       "\n",
       "                          t  \n",
       "method                       \n",
       "BFGS               0.012328  \n",
       "BFGS no jac        0.036714  \n",
       "L-BFGS-B           0.005118  \n",
       "L-BFGS-B no jac    0.016342  \n",
       "Nelder-Mead        0.066046  \n",
       "Newton-CG          0.012429  \n",
       "Newton-CG no hess  0.023103  \n",
       "Powell             0.154071  "
      ]
     },
     "execution_count": 14,
     "metadata": {},
     "output_type": "execute_result"
    }
   ],
   "source": [
    "df.groupby('method').median()"
   ]
  },
  {
   "cell_type": "markdown",
   "metadata": {},
   "source": [
    "# A word about global optimization"
   ]
  },
  {
   "cell_type": "code",
   "execution_count": null,
   "metadata": {},
   "outputs": [],
   "source": []
  }
 ],
 "metadata": {
  "kernelspec": {
   "display_name": "Python 3",
   "language": "python",
   "name": "python3"
  },
  "language_info": {
   "codemirror_mode": {
    "name": "ipython",
    "version": 3
   },
   "file_extension": ".py",
   "mimetype": "text/x-python",
   "name": "python",
   "nbconvert_exporter": "python",
   "pygments_lexer": "ipython3",
   "version": "3.7.3"
  }
 },
 "nbformat": 4,
 "nbformat_minor": 4
}
