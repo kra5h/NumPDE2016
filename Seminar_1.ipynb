{
 "cells": [
  {
   "cell_type": "markdown",
   "metadata": {
    "slideshow": {
     "slide_type": "slide"
    }
   },
   "source": [
    "# Classification of second-order PDE"
   ]
  },
  {
   "cell_type": "markdown",
   "metadata": {
    "slideshow": {
     "slide_type": "slide"
    }
   },
   "source": [
    "The most general form of equation looks as following:\n",
    "$$\n",
    "A\\frac{\\partial^2 u}{\\partial x^2}+B\\frac{\\partial^2 u}{\\partial x \\partial y}+C\\frac{\\partial^2 u}{\\partial y^2} + D\\frac{\\partial u}{\\partial x} + E\\frac{\\partial u}{\\partial y} + Fu = G(x,y)\n",
    "$$"
   ]
  },
  {
   "cell_type": "markdown",
   "metadata": {},
   "source": [
    "If $A,B,C,D,E,F$ are either constants or functions of $(x,y)$ then **linear equation**\n",
    "otherwise **non-linear** i.e. it may contain $u$ or its derivatives."
   ]
  },
  {
   "cell_type": "markdown",
   "metadata": {},
   "source": [
    "Important class of such non-linear equations is **QuasiLinear** in which co-efficients\n",
    "may contain $u$ or its first derivatives but not its higher derivatives."
   ]
  },
  {
   "cell_type": "markdown",
   "metadata": {},
   "source": [
    "If $G=0$ then **homogeneous** otherwise **non-homogeneous**\n"
   ]
  },
  {
   "cell_type": "markdown",
   "metadata": {
    "slideshow": {
     "slide_type": "subslide"
    }
   },
   "source": [
    "- If $B^2 – 4AC = 0$ then **Parabolic equation** \n",
    "- If $B^2 – 4AC < 0$ then **Elliptic equation**\n",
    "- If $B^2 – 4AC > 0$ then **Hyperbolic equation**"
   ]
  },
  {
   "cell_type": "markdown",
   "metadata": {
    "slideshow": {
     "slide_type": "slide"
    }
   },
   "source": [
    "## Parabolic equation"
   ]
  },
  {
   "cell_type": "markdown",
   "metadata": {},
   "source": [
    "\n",
    "The heat equation:\n",
    "$$\n",
    "u_{t} = k u_{xx}\n",
    "$$"
   ]
  },
  {
   "cell_type": "markdown",
   "metadata": {},
   "source": [
    "<img width=\"500\" src=\"fig/heat_map_2d_mpi.gif\"/>"
   ]
  },
  {
   "cell_type": "markdown",
   "metadata": {
    "collapsed": true,
    "slideshow": {
     "slide_type": "fragment"
    }
   },
   "source": [
    "What would the solution look like when $t \\rightarrow \\infty$?"
   ]
  },
  {
   "cell_type": "markdown",
   "metadata": {
    "slideshow": {
     "slide_type": "slide"
    }
   },
   "source": [
    "## Elliptic equation"
   ]
  },
  {
   "cell_type": "markdown",
   "metadata": {},
   "source": [
    "Poisson equation:\n",
    "$$\n",
    "\\Delta u = f\n",
    "$$"
   ]
  },
  {
   "cell_type": "markdown",
   "metadata": {},
   "source": [
    "<img width=\"500\" src=\"fig/poisson_u.png\"/>"
   ]
  },
  {
   "cell_type": "markdown",
   "metadata": {
    "slideshow": {
     "slide_type": "slide"
    }
   },
   "source": [
    "## Hyperbolic equation"
   ]
  },
  {
   "cell_type": "markdown",
   "metadata": {},
   "source": [
    "Wave equation:\n",
    "$$\n",
    "u_{tt} = a u_{xx}\n",
    "$$"
   ]
  },
  {
   "cell_type": "markdown",
   "metadata": {},
   "source": [
    "<img width=\"500\" src=\"fig/Spherical_wave2.gif\"/>"
   ]
  },
  {
   "cell_type": "markdown",
   "metadata": {
    "slideshow": {
     "slide_type": "slide"
    }
   },
   "source": [
    "# About boundary conditions"
   ]
  },
  {
   "cell_type": "markdown",
   "metadata": {},
   "source": [
    "There are 3 types of boundary conditions:\n",
    "1. Dirichlet $$u|_{\\Gamma} = \\phi$$\n",
    "2. Neuman $$\\frac{\\partial u}{\\partial \\vec n}|_{\\Gamma} = \\psi$$\n",
    "3. Robin $$ \\alpha u + \\beta \\frac{\\partial u}{\\partial \\vec n} = \\nu, \\ \\ u \\in \\Gamma$$"
   ]
  },
  {
   "cell_type": "markdown",
   "metadata": {
    "slideshow": {
     "slide_type": "subslide"
    }
   },
   "source": [
    "*Remark*: We always solve the equatiuons with zero boundary, but non-zero right-hand side. We can do such a replacement $$\\hat u = u - \\phi$$ \n",
    "\n",
    "$$ \\hat u = u - \\int_{\\Gamma} \\psi d n$$\n",
    "\n",
    "And rerwrite the equation"
   ]
  },
  {
   "cell_type": "markdown",
   "metadata": {
    "slideshow": {
     "slide_type": "slide"
    }
   },
   "source": [
    "## Finite difference scheme remark"
   ]
  },
  {
   "cell_type": "markdown",
   "metadata": {
    "slideshow": {
     "slide_type": "fragment"
    }
   },
   "source": [
    "**Principle**: derivatives in the partial differential equation are approximated by linear combinations of function values at the grid points"
   ]
  },
  {
   "cell_type": "markdown",
   "metadata": {
    "slideshow": {
     "slide_type": "subslide"
    }
   },
   "source": [
    "Consider the problem:\n",
    "\n",
    "$$\n",
    "\\begin{align*}\n",
    "\\Delta u = f\\qquad&\\text{on }\\Omega\n",
    "\\\\\n",
    "u = 0\\qquad&\\text{on }\\Gamma\n",
    "\\end{align*}\n",
    "$$\n"
   ]
  },
  {
   "cell_type": "markdown",
   "metadata": {},
   "source": [
    "For simplicity let us decide that our $\\Omega = (0,1) \\in \\mathbb R^1$"
   ]
  },
  {
   "cell_type": "markdown",
   "metadata": {},
   "source": [
    "After the discretization of our equation we obtain the system \n",
    "$$L_1 u = f$$\n",
    "\n",
    "with tri-diaoganal matrix"
   ]
  },
  {
   "cell_type": "markdown",
   "metadata": {
    "slideshow": {
     "slide_type": "subslide"
    }
   },
   "source": [
    "$$\n",
    "\\begin{bmatrix}\n",
    "   {2} & {-1} & {   } & {   } & { 0 } \\\\\n",
    "   {-1} & {2} & {-1} & {   } & {   } \\\\\n",
    "   {   } & {-1} & {2} & \\ddots & {   } \\\\\n",
    "   {   } & {   } & \\ddots & \\ddots & {-1}\\\\\n",
    "   { 0 } & {   } & {   } & {-1} & {2}\\\\\n",
    "\\end{bmatrix}\n",
    "\\begin{bmatrix}\n",
    "   {x_1 }  \\\\\n",
    "   {x_2 }  \\\\\n",
    "   {x_3 }  \\\\\n",
    "   \\vdots   \\\\\n",
    "   {x_n }  \\\\\n",
    "\\end{bmatrix}\n",
    "=\n",
    "\\begin{bmatrix}\n",
    "   {d_1 }  \\\\\n",
    "   {d_2 }  \\\\\n",
    "   {d_3 }  \\\\\n",
    "   \\vdots   \\\\\n",
    "   {d_n }  \\\\\n",
    "\\end{bmatrix}\n",
    ".\n",
    "$$"
   ]
  },
  {
   "cell_type": "markdown",
   "metadata": {},
   "source": [
    "**Note:** There is a cheap way to solve such system directly (without using sparse methods, using only a structure)"
   ]
  },
  {
   "cell_type": "markdown",
   "metadata": {
    "slideshow": {
     "slide_type": "slide"
    }
   },
   "source": [
    "## Tridiagonal matrix algorithm"
   ]
  },
  {
   "cell_type": "markdown",
   "metadata": {},
   "source": [
    "$$\n",
    "\\begin{bmatrix}\n",
    "   {b_1} & {c_1} & {   } & {   } & { 0 } \\\\\n",
    "   {a_2} & {b_2} & {c_2} & {   } & {   } \\\\\n",
    "   {   } & {a_3} & {b_3} & \\ddots & {   } \\\\\n",
    "   {   } & {   } & \\ddots & \\ddots & {c_{n-1}}\\\\\n",
    "   { 0 } & {   } & {   } & {a_n} & {b_n}\\\\\n",
    "\\end{bmatrix}\n",
    "\\begin{bmatrix}\n",
    "   {x_1 }  \\\\\n",
    "   {x_2 }  \\\\\n",
    "   {x_3 }  \\\\\n",
    "   \\vdots   \\\\\n",
    "   {x_n }  \\\\\n",
    "\\end{bmatrix}\n",
    "=\n",
    "\\begin{bmatrix}\n",
    "   {d_1 }  \\\\\n",
    "   {d_2 }  \\\\\n",
    "   {d_3 }  \\\\\n",
    "   \\vdots   \\\\\n",
    "   {d_n }  \\\\\n",
    "\\end{bmatrix}\n",
    ".\n",
    "$$"
   ]
  },
  {
   "cell_type": "markdown",
   "metadata": {
    "slideshow": {
     "slide_type": "subslide"
    }
   },
   "source": [
    "The forward sweep:\n",
    "$$\n",
    "c'_i =\n",
    "\\begin{cases}\n",
    "\\begin{array}{lcl}\n",
    "  \\cfrac{c_i}{b_i}                  & ; & i = 1 \\\\\n",
    "  \\cfrac{c_i}{b_i - a_i c'_{i - 1}} & ; & i = 2, 3, \\dots, n-1 \\\\\n",
    "\\end{array}\n",
    "\\end{cases}\n",
    "\\,\n",
    "$$"
   ]
  },
  {
   "cell_type": "markdown",
   "metadata": {
    "slideshow": {
     "slide_type": "fragment"
    }
   },
   "source": [
    "$$ b'_i =1 \\qquad \\qquad \\qquad ; \\ i = 1, 2, \\ldots, n $$"
   ]
  },
  {
   "cell_type": "markdown",
   "metadata": {
    "slideshow": {
     "slide_type": "subslide"
    }
   },
   "source": [
    "$$\n",
    "d'_i =\n",
    "\\begin{cases}\n",
    "\\begin{array}{lcl}\n",
    "  \\cfrac{d_i}{b_i}                  & ; & i = 1 \\\\\n",
    "  \\cfrac{d_i - a_i d'_{i - 1}}{b_i - a_i c'_{i - 1}} & ; & i = 2, 3, \\dots, n. \\\\\n",
    "\\end{array}\n",
    "\\end{cases}\n",
    "\\,\n",
    "$$"
   ]
  },
  {
   "cell_type": "markdown",
   "metadata": {
    "slideshow": {
     "slide_type": "subslide"
    }
   },
   "source": [
    "The solution is then obtained by back substitution:\n",
    "$$\n",
    "x_n = d'_n \\,\n",
    "$$\n",
    "\n",
    "$$\n",
    "x_i = d'_i - c'_i x_{i + 1} \\qquad ; \\ i = n - 1, n - 2, \\ldots, 1.\n",
    "$$"
   ]
  },
  {
   "cell_type": "markdown",
   "metadata": {
    "slideshow": {
     "slide_type": "fragment"
    }
   },
   "source": [
    "The complexity of this method is **linear!** $O(N)$, where $A \\in \\mathbb R^{N \\times N}$"
   ]
  },
  {
   "cell_type": "markdown",
   "metadata": {
    "slideshow": {
     "slide_type": "fragment"
    }
   },
   "source": [
    "*Remark*: Such matrices are called **Band**, and there exists the family of mathods for solving systems with band matrices."
   ]
  },
  {
   "cell_type": "markdown",
   "metadata": {
    "slideshow": {
     "slide_type": "slide"
    }
   },
   "source": [
    "## About Laplace 1D and 2D"
   ]
  },
  {
   "cell_type": "markdown",
   "metadata": {},
   "source": [
    "Just remind you that \n",
    "$$\n",
    "L_2 = L_1 \\otimes I + I \\otimes L_1\n",
    "$$"
   ]
  },
  {
   "cell_type": "markdown",
   "metadata": {},
   "source": [
    "That matrix is also band."
   ]
  },
  {
   "cell_type": "markdown",
   "metadata": {
    "slideshow": {
     "slide_type": "slide"
    }
   },
   "source": [
    "## Condition number remark"
   ]
  },
  {
   "cell_type": "markdown",
   "metadata": {},
   "source": [
    "Condition number by definition:\n",
    "$$ cond_*(A) = ||A||_*||A^{-1}||_*$$\n",
    "\n",
    "Using SVD (Singular value decomposition) we can obtain the following definition\n",
    "\n",
    "$$\n",
    "cond_2(A) = \\frac{\\sigma_{\\max}}{\\sigma_{\\min}}\n",
    "$$\n",
    "For our matrix $L_2$\n",
    "$$\n",
    "cond_2(L_2) = \\frac{\\lambda_{\\max}}{\\lambda_{\\min}} = O(h^{-2})\n",
    "$$"
   ]
  },
  {
   "cell_type": "markdown",
   "metadata": {
    "slideshow": {
     "slide_type": "slide"
    }
   },
   "source": [
    "# Homework tutorial"
   ]
  },
  {
   "cell_type": "markdown",
   "metadata": {
    "collapsed": false,
    "slideshow": {
     "slide_type": "slide"
    }
   },
   "source": [
    "# Packages for solving PDE"
   ]
  },
  {
   "cell_type": "markdown",
   "metadata": {
    "slideshow": {
     "slide_type": "subslide"
    }
   },
   "source": [
    "## **Main idea**"
   ]
  },
  {
   "cell_type": "markdown",
   "metadata": {
    "slideshow": {
     "slide_type": "subslide"
    }
   },
   "source": [
    "\n",
    "You have to solve an equation with differential operator $A$, right-hand side $f$ and boundary condition, on domain $\\Omega$:\n",
    "$$\n",
    "Au = f\n",
    "$$\n",
    "\n",
    "**The Finite Elements Methods is used.**\n",
    "1. Obtain the weak formulation (including the variational form and space where we try to solve the equation, for example $u \\in W_2^1(h)$): $$ (Au, \\phi) = (f, \\phi)$$\n",
    "2. Automatically create a mesh over domain\n",
    "2. Apply boundary conditions\n",
    "3. Automatically collect the stiffness matrix and solve the system\n",
    "4. Compute the solution "
   ]
  },
  {
   "cell_type": "markdown",
   "metadata": {
    "slideshow": {
     "slide_type": "slide"
    }
   },
   "source": [
    "http://sfepy.org/doc-devel/index.html\n",
    "\n",
    "http://fenicsproject.org\n",
    "\n",
    "http://www.firedrakeproject.org\n",
    "\n",
    "and so on...\n",
    "**IT’S OVER NINE THOUSAAAAAAAAND!** =)"
   ]
  },
  {
   "cell_type": "markdown",
   "metadata": {
    "collapsed": true,
    "slideshow": {
     "slide_type": "slide"
    }
   },
   "source": [
    "### SfePy"
   ]
  },
  {
   "cell_type": "code",
   "execution_count": null,
   "metadata": {
    "collapsed": true
   },
   "outputs": [],
   "source": [
    "\"\"\"\n",
    "Laplace equation in 1D with a variable coefficient.\n",
    "\n",
    "Because the mesh is trivial in 1D, it is generated by :func:`mesh_hook()`, and\n",
    "registered using :class:`UserMeshIO <sfepy.discrete.fem.meshio.UserMeshIO>`.\n",
    "\n",
    "Find :math:`t` such that:\n",
    "\n",
    ".. math::\n",
    "    \\int_{\\Omega} c(x) \\tdiff{s}{x} \\tdiff{t}{x}\n",
    "    = 0\n",
    "    \\;, \\quad \\forall s \\;,\n",
    "\n",
    "where the coefficient :math:`c(x) = 0.1 + \\sin(2 \\pi x)^2` is computed in\n",
    ":func:`get_coef()`.\n",
    "\n",
    "View the results using::\n",
    "\n",
    "  $ ./postproc.py -b -d't,plot_warp_scalar,rel_scaling=1' --wireframe --view=-90,90,1.5,0,0,0 --roll=0 laplace_1d.vtk\n",
    "\"\"\"\n",
    "import numpy as nm\n",
    "from sfepy.discrete.fem import Mesh\n",
    "from sfepy.discrete.fem.meshio import UserMeshIO\n",
    "\n",
    "def mesh_hook(mesh, mode):\n",
    "    \"\"\"\n",
    "    Generate the 1D mesh.\n",
    "    \"\"\"\n",
    "    if mode == 'read':\n",
    "        n_nod = 101\n",
    "\n",
    "        coors = nm.linspace(0.0, 1.0, n_nod).reshape((n_nod, 1))\n",
    "        conn = nm.arange(n_nod, dtype=nm.int32).repeat(2)[1:-1].reshape((-1, 2))\n",
    "        mat_ids = nm.zeros(n_nod - 1, dtype=nm.int32)\n",
    "        descs = ['1_2']\n",
    "\n",
    "        mesh = Mesh.from_data('laplace_1d', coors, None,\n",
    "                              [conn], [mat_ids], descs)\n",
    "        return mesh\n",
    "\n",
    "    elif mode == 'write':\n",
    "        pass\n",
    "\n",
    "def get_coef(ts, coors, mode=None, **kwargs):\n",
    "    if mode == 'qp':\n",
    "        x = coors[:, 0]\n",
    "\n",
    "        val = 0.1 + nm.sin(2 * nm.pi * x)**2\n",
    "        val.shape = (coors.shape[0], 1, 1)\n",
    "\n",
    "        return {'val' : val}\n",
    "\n",
    "filename_mesh = UserMeshIO(mesh_hook)\n",
    "\n",
    "materials = {\n",
    "    'coef' : 'get_coef',\n",
    "}\n",
    "\n",
    "functions = {\n",
    "    'get_coef' : (get_coef,),\n",
    "}\n",
    "\n",
    "regions = {\n",
    "    'Omega' : 'all',\n",
    "    'Gamma_Left' : ('vertices in (x < 0.00001)', 'facet'),\n",
    "    'Gamma_Right' : ('vertices in (x > 0.99999)', 'facet'),\n",
    "}\n",
    "\n",
    "fields = {\n",
    "    'temperature' : ('real', 1, 'Omega', 1),\n",
    "}\n",
    "\n",
    "variables = {\n",
    "    't' : ('unknown field', 'temperature', 0),\n",
    "    's' : ('test field',    'temperature', 't'),\n",
    "}\n",
    "\n",
    "ebcs = {\n",
    "    't1' : ('Gamma_Left', {'t.0' : 0.3}),\n",
    "    't2' : ('Gamma_Right', {'t.0' : -0.3}),\n",
    "}\n",
    "\n",
    "integrals = {\n",
    "    'i' : 2,\n",
    "}\n",
    "\n",
    "equations = {\n",
    "    'Temperature' : \"\"\"dw_laplace.i.Omega(coef.val, s, t) = 0\"\"\"\n",
    "}\n",
    "\n",
    "solvers = {\n",
    "    'ls' : ('ls.scipy_direct', {}),\n",
    "    'newton' : ('nls.newton', {\n",
    "        'i_max'      : 1,\n",
    "        'eps_a'      : 1e-10,\n",
    "    }),\n",
    "}\n",
    "\n",
    "options = {\n",
    "    'nls' : 'newton',\n",
    "    'ls' : 'ls',\n",
    "}"
   ]
  },
  {
   "cell_type": "markdown",
   "metadata": {
    "slideshow": {
     "slide_type": "slide"
    }
   },
   "source": [
    "<img width=\"500\" src=\"fig/sfepy.png\"/>"
   ]
  },
  {
   "cell_type": "markdown",
   "metadata": {
    "slideshow": {
     "slide_type": "slide"
    }
   },
   "source": [
    "### FEniCS"
   ]
  },
  {
   "cell_type": "code",
   "execution_count": null,
   "metadata": {
    "collapsed": true
   },
   "outputs": [],
   "source": [
    "from dolfin import *\n",
    "# Create mesh and define function space\n",
    "mesh = UnitSquareMesh(32, 32)\n",
    "V = FunctionSpace(mesh, \"Lagrange\", 1)\n",
    "# Define Dirichlet boundary (x = 0 or x = 1)\n",
    "def boundary(x):\n",
    "    return x[0] < DOLFIN_EPS or x[0] > 1.0 - DOLFIN_EPS\n",
    "# Define boundary condition\n",
    "u0 = Constant(0.0)\n",
    "bc = DirichletBC(V, u0, boundary)\n",
    "# Define variational problem\n",
    "u = TrialFunction(V)\n",
    "v = TestFunction(V)\n",
    "f = Expression(\"10*exp(-(pow(x[0] - 0.5, 2) + pow(x[1] - 0.5, 2)) / 0.02)\")\n",
    "g = Expression(\"sin(5*x[0])\")\n",
    "a = inner(grad(u), grad(v))*dx\n",
    "L = f*v*dx + g*v*ds\n",
    "# Save solution in VTK format\n",
    "file = File(\"poisson.pvd\")\n",
    "file << u\n",
    "\n",
    "# Plot solution\n",
    "plot(u, interactive=True)"
   ]
  },
  {
   "cell_type": "markdown",
   "metadata": {
    "slideshow": {
     "slide_type": "subslide"
    }
   },
   "source": [
    "<img width=\"500\" src=\"fig/fenics.png\"/>"
   ]
  },
  {
   "cell_type": "markdown",
   "metadata": {
    "slideshow": {
     "slide_type": "slide"
    }
   },
   "source": [
    "### FireDrake"
   ]
  },
  {
   "cell_type": "code",
   "execution_count": null,
   "metadata": {
    "collapsed": true
   },
   "outputs": [],
   "source": [
    "from firedrake import *\n",
    "mesh = UnitSquareMesh(32, 32)\n",
    "BDM = FunctionSpace(mesh, \"BDM\", 1)\n",
    "DG = FunctionSpace(mesh, \"DG\", 0)\n",
    "W = BDM * DG\n",
    "sigma, u = TrialFunctions(W)\n",
    "tau, v = TestFunctions(W)\n",
    "f = Function(DG).interpolate(Expression(\n",
    "    \"10*exp(-(pow(x[0] - 0.5, 2) + pow(x[1] - 0.5, 2)) / 0.02)\"))\n",
    "a = (dot(sigma, tau) + div(tau)*u + div(sigma)*v)*dx\n",
    "L = - f*v*dx\n",
    "bc0 = DirichletBC(W.sub(0), Expression((\"0.0\", \"-sin(5*x[0])\")), 1)\n",
    "bc1 = DirichletBC(W.sub(0), Expression((\"0.0\", \"sin(5*x[0])\")), 2)\n",
    "w = Function(W)\n",
    "solve(a == L, w, bcs=[bc0, bc1])\n",
    "sigma, u = w.split()\n",
    "File(\"poisson_mixed.pvd\") << u"
   ]
  },
  {
   "cell_type": "markdown",
   "metadata": {
    "slideshow": {
     "slide_type": "subslide"
    }
   },
   "source": [
    "<img width=\"500\" src=\"fig/firedrake.png\"/>"
   ]
  }
 ],
 "metadata": {
  "celltoolbar": "Slideshow",
  "kernelspec": {
   "display_name": "Python 2",
   "language": "python",
   "name": "python2"
  },
  "language_info": {
   "codemirror_mode": {
    "name": "ipython",
    "version": 2
   },
   "file_extension": ".py",
   "mimetype": "text/x-python",
   "name": "python",
   "nbconvert_exporter": "python",
   "pygments_lexer": "ipython2",
   "version": "2.7.11"
  }
 },
 "nbformat": 4,
 "nbformat_minor": 0
}
