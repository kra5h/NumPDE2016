{
 "cells": [
  {
   "cell_type": "markdown",
   "metadata": {
    "slideshow": {
     "slide_type": "slide"
    }
   },
   "source": [
    "# Classification of second-order PDE"
   ]
  },
  {
   "cell_type": "markdown",
   "metadata": {
    "slideshow": {
     "slide_type": "slide"
    }
   },
   "source": [
    "The most general form of equation looks as following:\n",
    "$$\n",
    "A\\frac{\\partial^2 u}{\\partial x^2}+B\\frac{\\partial^2 u}{\\partial x \\partial y}+C\\frac{\\partial^2 u}{\\partial y^2} + D\\frac{\\partial u}{\\partial x} + E\\frac{\\partial u}{\\partial y} + Fu = G(x,y)\n",
    "$$"
   ]
  },
  {
   "cell_type": "markdown",
   "metadata": {},
   "source": [
    "If $A,B,C,D,E,F$ are either constants or functions of $(x,y)$ then **linear equation**\n",
    "otherwise **non-linear** i.e. it may contain $u$ or its derivatives."
   ]
  },
  {
   "cell_type": "markdown",
   "metadata": {},
   "source": [
    "Important class of such non-linear equations is **QuasiLinear** in which co-efficients\n",
    "may contain $u$ or its first derivatives but not its higher derivatives."
   ]
  },
  {
   "cell_type": "markdown",
   "metadata": {},
   "source": [
    "If $G=0$ then **homogeneous** otherwise **non-homogeneous**\n"
   ]
  },
  {
   "cell_type": "markdown",
   "metadata": {
    "slideshow": {
     "slide_type": "subslide"
    }
   },
   "source": [
    "- If $B^2 – 4AC = 0$ then **Parabolic equation** \n",
    "- If $B^2 – 4AC < 0$ then **Elliptic equation**\n",
    "- If $B^2 – 4AC > 0$ then **Hyperbolic equation**"
   ]
  },
  {
   "cell_type": "markdown",
   "metadata": {
    "slideshow": {
     "slide_type": "slide"
    }
   },
   "source": [
    "## Parabolic equation"
   ]
  },
  {
   "cell_type": "markdown",
   "metadata": {},
   "source": [
    "\n",
    "The heat equation:\n",
    "$$\n",
    "u_{t} = k u_{xx}\n",
    "$$"
   ]
  },
  {
   "cell_type": "markdown",
   "metadata": {},
   "source": [
    "<img width=\"500\" src=\"fig/heat_map_2d_mpi.gif\"/>"
   ]
  },
  {
   "cell_type": "markdown",
   "metadata": {
    "collapsed": true,
    "slideshow": {
     "slide_type": "fragment"
    }
   },
   "source": [
    "What would the solution look like when $t \\rightarrow \\infty$?"
   ]
  },
  {
   "cell_type": "markdown",
   "metadata": {
    "slideshow": {
     "slide_type": "slide"
    }
   },
   "source": [
    "## Elliptic equation"
   ]
  },
  {
   "cell_type": "markdown",
   "metadata": {},
   "source": [
    "Poisson equation:\n",
    "$$\n",
    "\\Delta u = f\n",
    "$$"
   ]
  },
  {
   "cell_type": "markdown",
   "metadata": {},
   "source": [
    "<img width=\"500\" src=\"fig/poisson_u.png\"/>"
   ]
  },
  {
   "cell_type": "markdown",
   "metadata": {
    "slideshow": {
     "slide_type": "slide"
    }
   },
   "source": [
    "## Hyperbolic equation"
   ]
  },
  {
   "cell_type": "markdown",
   "metadata": {},
   "source": [
    "Wave equation:\n",
    "$$\n",
    "u_{tt} = a u_{xx}\n",
    "$$"
   ]
  },
  {
   "cell_type": "markdown",
   "metadata": {},
   "source": [
    "<img width=\"500\" src=\"fig/Spherical_wave2.gif\"/>"
   ]
  },
  {
   "cell_type": "markdown",
   "metadata": {
    "slideshow": {
     "slide_type": "slide"
    }
   },
   "source": [
    "# About boundary conditions"
   ]
  },
  {
   "cell_type": "markdown",
   "metadata": {},
   "source": [
    "There are 3 types of boundary conditions:\n",
    "1. Dirichlet $$u|_{\\Gamma} = \\phi$$\n",
    "2. Neuman $$\\frac{\\partial u}{\\partial \\vec n}|_{\\Gamma} = \\psi$$\n",
    "3. Robin $$ \\alpha u + \\beta \\frac{\\partial u}{\\partial \\vec n} = \\nu, \\ \\ u \\in \\Gamma$$"
   ]
  },
  {
   "cell_type": "markdown",
   "metadata": {
    "slideshow": {
     "slide_type": "subslide"
    }
   },
   "source": [
    "*Remark*: We always solve the equatiuons with zero boundary, but non-zero right-hand side. We can do such a replacement $$\\hat u = u - \\phi$$ \n",
    "\n",
    "$$ \\hat u = u - \\int_{\\Gamma} \\psi d n$$\n",
    "\n",
    "And rerwrite the equation"
   ]
  },
  {
   "cell_type": "markdown",
   "metadata": {
    "slideshow": {
     "slide_type": "slide"
    }
   },
   "source": [
    "## Finite difference scheme remark"
   ]
  },
  {
   "cell_type": "markdown",
   "metadata": {
    "slideshow": {
     "slide_type": "fragment"
    }
   },
   "source": [
    "**Principle**: derivatives in the partial differential equation are approximated by linear combinations of function values at the grid points"
   ]
  },
  {
   "cell_type": "markdown",
   "metadata": {
    "slideshow": {
     "slide_type": "subslide"
    }
   },
   "source": [
    "Consider the problem:\n",
    "\n",
    "$$\n",
    "\\begin{align*}\n",
    "\\Delta u = f\\qquad&\\text{on }\\Omega\n",
    "\\\\\n",
    "u = 0\\qquad&\\text{on }\\Gamma\n",
    "\\end{align*}\n",
    "$$\n"
   ]
  },
  {
   "cell_type": "markdown",
   "metadata": {},
   "source": [
    "For simplicity let us decide that our $\\Omega = (0,1) \\in \\mathbb R^1$"
   ]
  },
  {
   "cell_type": "markdown",
   "metadata": {},
   "source": [
    "After the discretization of our equation we obtain the system \n",
    "$$L_1 u = f$$\n",
    "\n",
    "with tri-diaoganal matrix"
   ]
  },
  {
   "cell_type": "markdown",
   "metadata": {
    "slideshow": {
     "slide_type": "subslide"
    }
   },
   "source": [
    "$$\n",
    "\\begin{bmatrix}\n",
    "   {2} & {-1} & {   } & {   } & { 0 } \\\\\n",
    "   {-1} & {2} & {-1} & {   } & {   } \\\\\n",
    "   {   } & {-1} & {2} & \\ddots & {   } \\\\\n",
    "   {   } & {   } & \\ddots & \\ddots & {-1}\\\\\n",
    "   { 0 } & {   } & {   } & {-1} & {2}\\\\\n",
    "\\end{bmatrix}\n",
    "\\begin{bmatrix}\n",
    "   {x_1 }  \\\\\n",
    "   {x_2 }  \\\\\n",
    "   {x_3 }  \\\\\n",
    "   \\vdots   \\\\\n",
    "   {x_n }  \\\\\n",
    "\\end{bmatrix}\n",
    "=\n",
    "\\begin{bmatrix}\n",
    "   {d_1 }  \\\\\n",
    "   {d_2 }  \\\\\n",
    "   {d_3 }  \\\\\n",
    "   \\vdots   \\\\\n",
    "   {d_n }  \\\\\n",
    "\\end{bmatrix}\n",
    ".\n",
    "$$"
   ]
  },
  {
   "cell_type": "markdown",
   "metadata": {},
   "source": [
    "**Note:** There is a cheap way to solve such system directly (without using sparse methods, using only a structure)"
   ]
  },
  {
   "cell_type": "markdown",
   "metadata": {
    "slideshow": {
     "slide_type": "slide"
    }
   },
   "source": [
    "## Tridiagonal matrix algorithm"
   ]
  },
  {
   "cell_type": "markdown",
   "metadata": {},
   "source": [
    "$$\n",
    "\\begin{bmatrix}\n",
    "   {b_1} & {c_1} & {   } & {   } & { 0 } \\\\\n",
    "   {a_2} & {b_2} & {c_2} & {   } & {   } \\\\\n",
    "   {   } & {a_3} & {b_3} & \\ddots & {   } \\\\\n",
    "   {   } & {   } & \\ddots & \\ddots & {c_{n-1}}\\\\\n",
    "   { 0 } & {   } & {   } & {a_n} & {b_n}\\\\\n",
    "\\end{bmatrix}\n",
    "\\begin{bmatrix}\n",
    "   {x_1 }  \\\\\n",
    "   {x_2 }  \\\\\n",
    "   {x_3 }  \\\\\n",
    "   \\vdots   \\\\\n",
    "   {x_n }  \\\\\n",
    "\\end{bmatrix}\n",
    "=\n",
    "\\begin{bmatrix}\n",
    "   {d_1 }  \\\\\n",
    "   {d_2 }  \\\\\n",
    "   {d_3 }  \\\\\n",
    "   \\vdots   \\\\\n",
    "   {d_n }  \\\\\n",
    "\\end{bmatrix}\n",
    ".\n",
    "$$"
   ]
  },
  {
   "cell_type": "markdown",
   "metadata": {
    "slideshow": {
     "slide_type": "subslide"
    }
   },
   "source": [
    "The forward sweep:\n",
    "$$\n",
    "c'_i =\n",
    "\\begin{cases}\n",
    "\\begin{array}{lcl}\n",
    "  \\cfrac{c_i}{b_i}                  & ; & i = 1 \\\\\n",
    "  \\cfrac{c_i}{b_i - a_i c'_{i - 1}} & ; & i = 2, 3, \\dots, n-1 \\\\\n",
    "\\end{array}\n",
    "\\end{cases}\n",
    "\\,\n",
    "$$"
   ]
  },
  {
   "cell_type": "markdown",
   "metadata": {
    "slideshow": {
     "slide_type": "fragment"
    }
   },
   "source": [
    "$$ b'_i =1 \\qquad \\qquad \\qquad ; \\ i = 1, 2, \\ldots, n $$"
   ]
  },
  {
   "cell_type": "markdown",
   "metadata": {
    "slideshow": {
     "slide_type": "subslide"
    }
   },
   "source": [
    "$$\n",
    "d'_i =\n",
    "\\begin{cases}\n",
    "\\begin{array}{lcl}\n",
    "  \\cfrac{d_i}{b_i}                  & ; & i = 1 \\\\\n",
    "  \\cfrac{d_i - a_i d'_{i - 1}}{b_i - a_i c'_{i - 1}} & ; & i = 2, 3, \\dots, n. \\\\\n",
    "\\end{array}\n",
    "\\end{cases}\n",
    "\\,\n",
    "$$"
   ]
  },
  {
   "cell_type": "markdown",
   "metadata": {
    "slideshow": {
     "slide_type": "subslide"
    }
   },
   "source": [
    "The solution is then obtained by back substitution:\n",
    "$$\n",
    "x_n = d'_n \\,\n",
    "$$\n",
    "\n",
    "$$\n",
    "x_i = d'_i - c'_i x_{i + 1} \\qquad ; \\ i = n - 1, n - 2, \\ldots, 1.\n",
    "$$"
   ]
  },
  {
   "cell_type": "markdown",
   "metadata": {
    "slideshow": {
     "slide_type": "fragment"
    }
   },
   "source": [
    "The complexity of this method is **linear!** $O(N)$, where $A \\in \\mathbb R^{N \\times N}$"
   ]
  },
  {
   "cell_type": "markdown",
   "metadata": {
    "slideshow": {
     "slide_type": "fragment"
    }
   },
   "source": [
    "*Remark*: Such matrices are called **Band**, and there exists the family of mathods for solving systems with band matrices."
   ]
  },
  {
   "cell_type": "markdown",
   "metadata": {
    "slideshow": {
     "slide_type": "slide"
    }
   },
   "source": [
    "## About Laplace 1D and 2D"
   ]
  },
  {
   "cell_type": "markdown",
   "metadata": {},
   "source": [
    "Just remind you that \n",
    "$$\n",
    "L_2 = L_1 \\otimes I + I \\otimes L_1\n",
    "$$"
   ]
  },
  {
   "cell_type": "markdown",
   "metadata": {},
   "source": [
    "That matrix is also band."
   ]
  },
  {
   "cell_type": "markdown",
   "metadata": {
    "slideshow": {
     "slide_type": "slide"
    }
   },
   "source": [
    "## Condition number remark"
   ]
  },
  {
   "cell_type": "markdown",
   "metadata": {},
   "source": [
    "Condition number by definition:\n",
    "$$ cond_*(A) = ||A||_*||A^{-1}||_*$$\n",
    "\n",
    "Using SVD (Singular value decomposition) we can obtain the following definition\n",
    "\n",
    "$$\n",
    "cond_2(A) = \\frac{\\sigma_{\\max}}{\\sigma_{\\min}}\n",
    "$$\n",
    "For our matrix $L_2$\n",
    "$$\n",
    "cond_2(L_2) = \\frac{\\lambda_{\\max}}{\\lambda_{\\min}} = O(h^{-2})\n",
    "$$"
   ]
  },
  {
   "cell_type": "markdown",
   "metadata": {
    "slideshow": {
     "slide_type": "slide"
    }
   },
   "source": [
    "# Homework tutorial"
   ]
  },
  {
   "cell_type": "markdown",
   "metadata": {
    "collapsed": false,
    "slideshow": {
     "slide_type": "slide"
    }
   },
   "source": [
    "# Packages for solving PDE"
   ]
  },
  {
   "cell_type": "markdown",
   "metadata": {},
   "source": [
    "http://sfepy.org/doc-devel/index.html\n",
    "\n",
    "http://fenicsproject.org\n",
    "\n",
    "http://www.firedrakeproject.org\n",
    "\n",
    "and so on...\n",
    "**IT’S OVER NINE THOUSAAAAAAAAND!** =)"
   ]
  },
  {
   "cell_type": "code",
   "execution_count": null,
   "metadata": {
    "collapsed": true
   },
   "outputs": [],
   "source": []
  }
 ],
 "metadata": {
  "celltoolbar": "Slideshow",
  "kernelspec": {
   "display_name": "Python 2",
   "language": "python",
   "name": "python2"
  },
  "language_info": {
   "codemirror_mode": {
    "name": "ipython",
    "version": 2
   },
   "file_extension": ".py",
   "mimetype": "text/x-python",
   "name": "python",
   "nbconvert_exporter": "python",
   "pygments_lexer": "ipython2",
   "version": "2.7.11"
  }
 },
 "nbformat": 4,
 "nbformat_minor": 0
}
