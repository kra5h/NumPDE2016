{
 "cells": [
  {
   "cell_type": "markdown",
   "metadata": {},
   "source": [
    "# NumPDE"
   ]
  },
  {
   "cell_type": "markdown",
   "metadata": {},
   "source": [
    "**Course instructors: **\n",
    "Alexander Shapeev\n",
    "\n",
    "** TAs:**\n",
    "Maxim Kuznetsov, Evgeny Frolov, Artem Naumov"
   ]
  },
  {
   "cell_type": "markdown",
   "metadata": {},
   "source": [
    "[Course syllabus](syllabus.ipynb)\n",
    "\n",
    "Python [Crash Course](https://github.com/oseledets/nla2015/blob/master/lectures/Python_crash_course.ipynb)\n",
    "\n",
    "\n",
    "| Week | Monday | Tuesday | Thursday | Saturday 6am |\n",
    "|---|---|---|---|---|\n",
    "|1| [Lecture 1](lecture-1.ipynb) | [Lecture 2](lecture-2.ipynb) <br> **[Problem Set 1](PS1.ipynb) [[PDF](pdf/PS1.pdf)]** | [Seminar 1](https://github.com/shapeev/NumPDE2016/blob/master/Seminar_1.ipynb)| &nbsp; |\n",
    "|2| [Lecture 3](lecture-3.ipynb) <br> <span style=\"font-size: 70%;\">the package demo was a part of [Seminar 1](https://github.com/shapeev/NumPDE2016/blob/master/Seminar_1.ipynb)</span> | [Lecture 4](lecture-4.ipynb) [[PDF](pdf/lecture-4.pdf)] <br> **[Problem Set 2](PS2.ipynb)  [[PDF](pdf/PS2.pdf)]** | [Meshing](Mesh.ipynb) | **Problem Set 1 due** |\n",
    "|3| [Lecture 5](lecture-5.ipynb) | [Lecture 6](lecture-6.ipynb) | [Lecture 7](lecture-7.ipynb) <br> **[Midterm study guide](MT_study_guide.ipynb)  [[PDF](pdf/MT_study_guide.pdf)]** | &nbsp; |\n",
    "|4| Public holiday | Public holiday<br>**[Problem Set 3](PS3.ipynb) [[PDF](pdf/PS3.pdf)]** | Midterm Test | **Problem Set 2 due** |\n",
    "|5| [Guest Lecture 8 (FVM)](lecture-8-fvm.pdf) | [Guest Lecture 9 (IE)](ie-lecture.pdf)<br>**[Problem Set 4](PS4.pdf)** | &nbsp; | **Problem Set 3 due** |\n",
    "|6| Public holiday | Public holiday | &nbsp; | **Problem Set 4 due** |\n",
    "|7| &nbsp; | &nbsp; | &nbsp; | **Late submissions due** |\n",
    "|8| App Period | App Period | App Period | &nbsp; |\n"
   ]
  },
  {
   "cell_type": "code",
   "execution_count": null,
   "metadata": {
    "collapsed": true
   },
   "outputs": [],
   "source": []
  }
 ],
 "metadata": {
  "kernelspec": {
   "display_name": "Python 2",
   "language": "python",
   "name": "python2"
  },
  "language_info": {
   "codemirror_mode": {
    "name": "ipython",
    "version": 2
   },
   "file_extension": ".py",
   "mimetype": "text/x-python",
   "name": "python",
   "nbconvert_exporter": "python",
   "pygments_lexer": "ipython2",
   "version": "2.7.11"
  }
 },
 "nbformat": 4,
 "nbformat_minor": 0
}
