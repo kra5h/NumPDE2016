{
 "cells": [
  {
   "cell_type": "markdown",
   "metadata": {},
   "source": [
    "# NumPDE"
   ]
  },
  {
   "cell_type": "markdown",
   "metadata": {},
   "source": [
    "**Course instructors: **\n",
    "Alexander Shapeev\n",
    "\n",
    "** TAs:**\n",
    "Maxim Kuznetsov, Evgeny Frolov, Artem Naumov"
   ]
  },
  {
   "cell_type": "markdown",
   "metadata": {},
   "source": [
    "[Course syllabus](syllabus.ipynb)\n",
    "\n",
    "Python [Crash Course](https://github.com/oseledets/nla2015/blob/master/lectures/Python_crash_course.ipynb)\n",
    "\n",
    "\n",
    "| Week | Monday | Tuesday | Thursday | Saturday 6am |\n",
    "|---|---|---|---|---|\n",
    "|1| [Lecture 1](lecture-1.ipynb) | [Lecture 2](lecture-2.ipynb) <br> **[Problem Set 1](PS1.ipynb) [[PDF](pdf/PS1.pdf)]** | [Seminar 1](https://github.com/shapeev/NumPDE2016/blob/master/Seminar_1.ipynb)| &nbsp; |\n",
    "|2| [Lecture 3](lecture-3.ipynb) <br> <span style=\"font-size: 70%;\">the package demo was a part of [Seminar 1](https://github.com/shapeev/NumPDE2016/blob/master/Seminar_1.ipynb)</span> | [Lecture 4](lecture-4.ipynb) [[PDF](pdf/lecture-4.pdf)] <br> **[Problem Set 2](PS2.ipynb)  [[PDF](pdf/PS2.pdf)]** | &nbsp; | **Problem Set 1 due** |\n",
    "|3| &nbsp; | &nbsp; | &nbsp; | **Problem Set 2 due** |\n",
    "|4| Public holiday | Public holiday | Midterm Test | &nbsp; |\n",
    "|5| &nbsp; | &nbsp; | &nbsp; | **Problem Set 3 due** |\n",
    "|6| &nbsp; | &nbsp; | &nbsp; | **Problem Set 4 due** |\n",
    "|7| &nbsp; | &nbsp; | &nbsp; | **Late submissions due** |\n",
    "|8| App Period | App Period | App Period | &nbsp; |\n"
   ]
  }
 ],
 "metadata": {
  "kernelspec": {
   "display_name": "Python 2",
   "language": "python",
   "name": "python2"
  },
  "language_info": {
   "codemirror_mode": {
    "name": "ipython",
    "version": 2
   },
   "file_extension": ".py",
   "mimetype": "text/x-python",
   "name": "python",
   "nbconvert_exporter": "python",
   "pygments_lexer": "ipython2",
   "version": "2.7.11"
  }
 },
 "nbformat": 4,
 "nbformat_minor": 0
}
